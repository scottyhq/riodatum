{
 "cells": [
  {
   "cell_type": "code",
   "execution_count": 1,
   "id": "afe899f7-2a57-4986-9b55-f6f3a84c659f",
   "metadata": {},
   "outputs": [
    {
     "name": "stdout",
     "output_type": "stream",
     "text": [
      "/srv/conda/envs/notebook/bin:/srv/conda/condabin:/home/jovyan/.local/bin:/home/jovyan/.local/bin:/srv/conda/envs/notebook/bin:/srv/conda/bin:/srv/npm/bin:/usr/local/sbin:/usr/local/bin:/usr/sbin:/usr/bin:/sbin:/bin\n",
      "GDAL 3.4.1, released 2021/12/27\n"
     ]
    },
    {
     "name": "stderr",
     "output_type": "stream",
     "text": [
      "PROJ: pj_open_lib(proj.db): call fopen(/srv/conda/envs/notebook/share/proj/proj.db) - succeeded\n",
      "GDAL: GDALOpen(../Copernicus_DSM_COG_10_N39_00_W109_00_DEM.tif, this=0x55f93e35dd10) succeeds as GTiff.\n",
      "GDAL: Using GTiff driver\n",
      "PROJ: pj_open_lib(proj.ini): call fopen(/srv/conda/envs/notebook/share/proj/proj.ini) - succeeded\n",
      "GDAL: Computing area of interest: -109, 39.0001, -108, 40.0001\n",
      "OGRCT: Wrap source at -108.5.\n",
      "PROJ: pj_open_lib(us_nga_egm08_25.tif): call fopen(/srv/conda/envs/notebook/share/proj/us_nga_egm08_25.tif) - failed\n",
      "PROJ: pj_open_lib(egm08_25.gtx): call fopen(/srv/conda/envs/notebook/share/proj/egm08_25.gtx) - failed\n",
      "PROJ: Using https://cdn.proj.org/us_nga_egm08_25.tif\n",
      "PROJ: pj_open_lib(us_nga_egm08_25.tif): call fopen(/srv/conda/envs/notebook/share/proj/us_nga_egm08_25.tif) - failed\n",
      "PROJ: pj_open_lib(egm08_25.gtx): call fopen(/srv/conda/envs/notebook/share/proj/egm08_25.gtx) - failed\n",
      "PROJ: Using https://cdn.proj.org/us_nga_egm08_25.tif\n",
      "GDAL: GDALDriver::Create(GTiff,epsg7661_gdal341.tif,3600,3600,1,Float32,(nil))\n"
     ]
    },
    {
     "name": "stdout",
     "output_type": "stream",
     "text": [
      "Creating output file that is 3600P x 3600L.\n"
     ]
    },
    {
     "name": "stderr",
     "output_type": "stream",
     "text": [
      "WARP: Copying metadata from first source to destination dataset\n",
      "GTiff: ScanDirectories()\n",
      "GTiff: Opened 1800x1800 overview.\n",
      "GTiff: Opened 900x900 overview.\n",
      "GTiff: Opened 450x450 overview.\n",
      "GDALWARP: Defining SKIP_NOSOURCE=YES\n",
      "PROJ: Using coordinate operation WGS 84 to EGM2008 height (1)\n",
      "PROJ: pj_open_lib(us_nga_egm08_25.tif): call fopen(/srv/conda/envs/notebook/share/proj/us_nga_egm08_25.tif) - failed\n",
      "PROJ: pj_open_lib(egm08_25.gtx): call fopen(/srv/conda/envs/notebook/share/proj/egm08_25.gtx) - failed\n",
      "PROJ: Using https://cdn.proj.org/us_nga_egm08_25.tif\n",
      "PROJ: Using coordinate operation WGS 84 to EGM2008 height (1)\n",
      "PROJ: pj_open_lib(us_nga_egm08_25.tif): call fopen(/srv/conda/envs/notebook/share/proj/us_nga_egm08_25.tif) - failed\n",
      "PROJ: pj_open_lib(egm08_25.gtx): call fopen(/srv/conda/envs/notebook/share/proj/egm08_25.gtx) - failed\n",
      "PROJ: Using https://cdn.proj.org/us_nga_egm08_25.tif\n",
      "GDAL: GDAL_CACHEMAX = 785 MB\n",
      "GDAL: GDALWarpKernel()::GWKNearestNoMasksOrDstDensityOnlyFloat() Src=0,0,3600x1801 Dst=0,0,3600x1800\n",
      "GDAL: GDALWarpKernel()::GWKNearestNoMasksOrDstDensityOnlyFloat() Src=0,1800,3600x1800 Dst=0,1800,3600x1800\n",
      "GDAL: Flushing dirty blocks: 0...10...20...30...40...50...60...70...80...90...100 - done.\n",
      "GDAL: GDALClose(epsg7661_gdal341.tif, this=0x55f93e8a7190)\n",
      "GDAL: GDALClose(../Copernicus_DSM_COG_10_N39_00_W109_00_DEM.tif, this=0x55f93e35dd10)\n"
     ]
    },
    {
     "name": "stdout",
     "output_type": "stream",
     "text": [
      "Processing ../Copernicus_DSM_COG_10_N39_00_W109_00_DEM.tif [1/1] : 0...10...20...30...40...50...60...70...80...90...100 - done.\n"
     ]
    }
   ],
   "source": [
    "%%bash\n",
    "# Careful that this picks up correct version\n",
    "\n",
    "echo $PATH\n",
    "gdalinfo --version\n",
    "INPUT='Copernicus_DSM_COG_10_N39_00_W109_00_DEM.tif' \n",
    "OUTPUT='epsg7661_gdal341.tif'\n",
    "\n",
    "CPL_DEBUG=ON \\\n",
    "PROJ_DEBUG=2 \\\n",
    "gdalwarp -s_srs EPSG:9518 -t_srs EPSG:7661 $INPUT $OUTPUT"
   ]
  },
  {
   "cell_type": "code",
   "execution_count": 2,
   "id": "2953363e-143e-47d8-9b6d-0af9fa017aab",
   "metadata": {},
   "outputs": [
    {
     "name": "stderr",
     "output_type": "stream",
     "text": [
      "DEBUG:rasterio.env:Entering env context: <rasterio.env.Env object at 0x7f4b48192100>\n",
      "DEBUG:rasterio.env:Starting outermost env\n",
      "DEBUG:rasterio.env:No GDAL environment exists\n",
      "DEBUG:rasterio.env:New GDAL environment <rasterio._env.GDALEnv object at 0x7f4b4b79e1f0> created\n",
      "DEBUG:rasterio._env:GDAL_DATA found in environment.\n",
      "DEBUG:rasterio._env:PROJ_LIB found in environment.\n",
      "DEBUG:rasterio._env:Started GDALEnv: self=<rasterio._env.GDALEnv object at 0x7f4b4b79e1f0>.\n",
      "DEBUG:rasterio.env:Entered env context: <rasterio.env.Env object at 0x7f4b48192100>\n",
      "DEBUG:rasterio.env:Got a copy of environment <rasterio._env.GDALEnv object at 0x7f4b4b79e1f0> options\n",
      "DEBUG:rasterio.env:Entering env context: <rasterio.env.Env object at 0x7f4b07ac9700>\n",
      "DEBUG:rasterio.env:Got a copy of environment <rasterio._env.GDALEnv object at 0x7f4b4b79e1f0> options\n",
      "DEBUG:rasterio.env:Entered env context: <rasterio.env.Env object at 0x7f4b07ac9700>\n",
      "DEBUG:rasterio._base:Sharing flag: 0\n",
      "DEBUG:rasterio._env:CPLE_None in GDAL: GDALOpen(../Copernicus_DSM_COG_10_N39_00_W109_00_DEM.tif, this=0x55b4a4e1c300) succeeds as GTiff.\n",
      "DEBUG:rasterio._env:CPLE_None in PROJ: pj_open_lib(proj.db): call fopen(/srv/conda/envs/notebook/share/proj/proj.db) - succeeded\n",
      "DEBUG:rasterio._base:Nodata success: 0, Nodata value: -10000000000.000000\n",
      "DEBUG:rasterio._base:Dataset <open DatasetReader name='../Copernicus_DSM_COG_10_N39_00_W109_00_DEM.tif' mode='r'> is started.\n",
      "DEBUG:rasterio.env:Exiting env context: <rasterio.env.Env object at 0x7f4b07ac9700>\n",
      "DEBUG:rasterio.env:Cleared existing <rasterio._env.GDALEnv object at 0x7f4b4b79e1f0> options\n",
      "DEBUG:rasterio._env:Stopped GDALEnv <rasterio._env.GDALEnv object at 0x7f4b4b79e1f0>.\n",
      "DEBUG:rasterio.env:No GDAL environment exists\n",
      "DEBUG:rasterio.env:New GDAL environment <rasterio._env.GDALEnv object at 0x7f4b4b79e1f0> created\n",
      "DEBUG:rasterio._env:GDAL_DATA found in environment.\n",
      "DEBUG:rasterio._env:PROJ_LIB found in environment.\n",
      "DEBUG:rasterio._env:Started GDALEnv: self=<rasterio._env.GDALEnv object at 0x7f4b4b79e1f0>.\n",
      "DEBUG:rasterio.env:Exited env context: <rasterio.env.Env object at 0x7f4b07ac9700>\n",
      "DEBUG:rasterio._io:Output nodata value read from file: None\n",
      "DEBUG:rasterio._io:Output nodata values: [None]\n",
      "DEBUG:rasterio._env:CPLE_None in GTiff: ScanDirectories()\n",
      "DEBUG:rasterio._env:CPLE_None in GTiff: Opened 1800x1800 overview.\n",
      "DEBUG:rasterio._env:CPLE_None in GTiff: Opened 900x900 overview.\n",
      "DEBUG:rasterio._env:CPLE_None in GTiff: Opened 450x450 overview.\n",
      "DEBUG:rasterio._io:all_valid: True\n",
      "DEBUG:rasterio._io:mask_flags: ([<MaskFlags.all_valid: 1>],)\n",
      "DEBUG:rasterio._io:Jump straight to _read()\n",
      "DEBUG:rasterio._io:Window: None\n",
      "DEBUG:rasterio._io:IO window xoff=0.0 yoff=0.0 width=3600.0 height=3600.0\n",
      "DEBUG:rasterio._env:CPLE_None in GDAL: GDAL_CACHEMAX = 785 MB\n",
      "DEBUG:rasterio._env:CPLE_None in VRT: No valid sources found for band in VRT file \n",
      "DEBUG:rasterio._env:CPLE_None in GDAL: GDALOpen(<VRTDataset rasterYSize=\"3600\" rasterXSize=\"3600\"><VRTRasterBand /><SRS>COMPD_CS[\"WGS 84 + EGM2008 height\",GEOGCS[\"WGS 84\",DATUM[\"WGS_1984\",SPHEROID[\"WGS 84\",6378137,298.257223563,AUTHORITY[\"EPSG\",\"7030\"]],AUTHORITY[\"EPSG\",\"6326\"]],PRIMEM[\"Greenwich\",0,AUTHORITY[\"EPSG\",\"8901\"]],UNIT[\"degree\",0.0174532925199433,AUTHORITY[\"EPSG\",\"9122\"]],AXIS[\"Latitude\",NORTH],AXIS[\"Longitude\",EAST],AUTHORITY[\"EPSG\",\"4326\"]],VERT_CS[\"EGM2008 height\",VERT_DATUM[\"EGM2008 geoid\",2005,AUTHORITY[\"EPSG\",\"1027\"]],UNIT[\"metre\",1,AUTHORITY[\"EPSG\",\"9001\"]],AXIS[\"Gravity-related height\",UP],AUTHORITY[\"EPSG\",\"3855\"]],AUTHORITY[\"EPSG\",\"9518\"]]</SRS><GeoTransform>-109.00013888888888,0.0002777777777777778,0.0,40.00013888888889,0.0,-0.0002777777777777778</GeoTransform></VRTDataset>, this=0x55b4a4eb9d10) succeeds as VRT.\n",
      "DEBUG:rasterio._env:CPLE_None in PROJ: pj_open_lib(proj.ini): call fopen(/srv/conda/envs/notebook/share/proj/proj.ini) - succeeded\n",
      "DEBUG:rasterio._env:CPLE_None in GDAL: Computing area of interest: -109, 39.0001, -108, 40.0001\n",
      "DEBUG:rasterio._env:CPLE_None in OGRCT: Wrap source at -108.5.\n",
      "DEBUG:rasterio._env:CPLE_None in PROJ: pj_open_lib(us_nga_egm08_25.tif): call fopen(/srv/conda/envs/notebook/share/proj/us_nga_egm08_25.tif) - failed\n",
      "DEBUG:rasterio._env:CPLE_None in PROJ: pj_open_lib(egm08_25.gtx): call fopen(/srv/conda/envs/notebook/share/proj/egm08_25.gtx) - failed\n"
     ]
    },
    {
     "name": "stdout",
     "output_type": "stream",
     "text": [
      "2033.3871\n"
     ]
    },
    {
     "name": "stderr",
     "output_type": "stream",
     "text": [
      "DEBUG:rasterio._env:CPLE_None in PROJ: Using https://cdn.proj.org/us_nga_egm08_25.tif\n",
      "DEBUG:rasterio._env:CPLE_None in PROJ: pj_open_lib(us_nga_egm08_25.tif): call fopen(/srv/conda/envs/notebook/share/proj/us_nga_egm08_25.tif) - failed\n",
      "DEBUG:rasterio._env:CPLE_None in PROJ: pj_open_lib(egm08_25.gtx): call fopen(/srv/conda/envs/notebook/share/proj/egm08_25.gtx) - failed\n",
      "DEBUG:rasterio._env:CPLE_None in PROJ: Using https://cdn.proj.org/us_nga_egm08_25.tif\n",
      "DEBUG:rasterio._env:CPLE_None in GDAL: GDALClose(<VRTDataset rasterYSize=\"3600\" rasterXSize=\"3600\"><VRTRasterBand /><SRS>COMPD_CS[\"WGS 84 + EGM2008 height\",GEOGCS[\"WGS 84\",DATUM[\"WGS_1984\",SPHEROID[\"WGS 84\",6378137,298.257223563,AUTHORITY[\"EPSG\",\"7030\"]],AUTHORITY[\"EPSG\",\"6326\"]],PRIMEM[\"Greenwich\",0,AUTHORITY[\"EPSG\",\"8901\"]],UNIT[\"degree\",0.0174532925199433,AUTHORITY[\"EPSG\",\"9122\"]],AXIS[\"Latitude\",NORTH],AXIS[\"Longitude\",EAST],AUTHORITY[\"EPSG\",\"4326\"]],VERT_CS[\"EGM2008 height\",VERT_DATUM[\"EGM2008 geoid\",2005,AUTHORITY[\"EPSG\",\"1027\"]],UNIT[\"metre\",1,AUTHORITY[\"EPSG\",\"9001\"]],AXIS[\"Gravity-related height\",UP],AUTHORITY[\"EPSG\",\"3855\"]],AUTHORITY[\"EPSG\",\"9518\"]]</SRS><GeoTransform>-109.00013888888888,0.0002777777777777778,0.0,40.00013888888889,0.0,-0.0002777777777777778</GeoTransform></VRTDataset>, this=0x55b4a4eb9d10)\n",
      "DEBUG:rasterio.env:Got a copy of environment <rasterio._env.GDALEnv object at 0x7f4b4b79e1f0> options\n",
      "DEBUG:rasterio.env:Entering env context: <rasterio.env.Env object at 0x7f4b07ad6700>\n",
      "DEBUG:rasterio.env:Got a copy of environment <rasterio._env.GDALEnv object at 0x7f4b4b79e1f0> options\n",
      "DEBUG:rasterio.env:Entered env context: <rasterio.env.Env object at 0x7f4b07ad6700>\n",
      "DEBUG:rasterio._io:Path: UnparsedPath(path='epsg7661_rio13.tif'), mode: w, driver: GTiff\n",
      "INFO:rasterio._env:GDAL signalled an error: err_no=4, msg='epsg7661_rio13.tif: No such file or directory'\n",
      "DEBUG:rasterio._io:Skipped delete for overwrite, dataset does not exist: 'epsg7661_rio13.tif'\n",
      "DEBUG:rasterio._env:CPLE_None in GDAL: GDALDriver::Create(GTiff,epsg7661_rio13.tif,3600,3600,1,Float32,(nil))\n",
      "DEBUG:rasterio._base:Nodata success: 0, Nodata value: -10000000000.000000\n",
      "DEBUG:rasterio.env:Exiting env context: <rasterio.env.Env object at 0x7f4b07ad6700>\n",
      "DEBUG:rasterio.env:Cleared existing <rasterio._env.GDALEnv object at 0x7f4b4b79e1f0> options\n",
      "DEBUG:rasterio._env:Stopped GDALEnv <rasterio._env.GDALEnv object at 0x7f4b4b79e1f0>.\n",
      "DEBUG:rasterio.env:No GDAL environment exists\n",
      "DEBUG:rasterio.env:New GDAL environment <rasterio._env.GDALEnv object at 0x7f4b4b79e1f0> created\n",
      "DEBUG:rasterio._env:GDAL_DATA found in environment.\n",
      "DEBUG:rasterio._env:PROJ_LIB found in environment.\n",
      "DEBUG:rasterio._env:Started GDALEnv: self=<rasterio._env.GDALEnv object at 0x7f4b4b79e1f0>.\n",
      "DEBUG:rasterio.env:Exited env context: <rasterio.env.Env object at 0x7f4b07ad6700>\n",
      "DEBUG:rasterio._io:Path: UnparsedPath(path='MEM:::DATAPOINTER=139959948320784,PIXELS=3600,LINES=3600,BANDS=1,DATATYPE=Float32'), mode: r+, driver: None\n",
      "DEBUG:rasterio._env:CPLE_None in GDAL: GDALOpen(MEM:::DATAPOINTER=139959948320784,PIXELS=3600,LINES=3600,BANDS=1,DATATYPE=Float32, this=0x55b4a5478e70) succeeds as MEM.\n",
      "DEBUG:rasterio._base:Nodata success: 0, Nodata value: 0.000000\n",
      "DEBUG:rasterio._io:Path: UnparsedPath(path='MEM:::DATAPOINTER=139960000163856,PIXELS=3600,LINES=3600,BANDS=1,DATATYPE=Float64'), mode: r+, driver: None\n",
      "DEBUG:rasterio._env:CPLE_None in GDAL: GDALOpen(MEM:::DATAPOINTER=139960000163856,PIXELS=3600,LINES=3600,BANDS=1,DATATYPE=Float64, this=0x55b4a5481f60) succeeds as MEM.\n",
      "DEBUG:rasterio._base:Nodata success: 0, Nodata value: 0.000000\n",
      "DEBUG:rasterio._warp:Created temp destination dataset.\n",
      "DEBUG:rasterio._warp:Set _reproject Transformer option b'APPLY_VERTICAL_SHIFT'=b'TRUE'\n",
      "DEBUG:rasterio._env:CPLE_None in GDAL: Computing area of interest: -109, 39.0001, -108, 40.0001\n",
      "DEBUG:rasterio._warp:Created approximate transformer\n",
      "DEBUG:rasterio._warp:Created transformer and options.\n",
      "DEBUG:rasterio._warp:Setting NUM_THREADS option: 1\n",
      "DEBUG:rasterio._warp:Configured to warp src band 1 to destination band 1\n",
      "DEBUG:rasterio._warp:Set transformer options\n",
      "DEBUG:rasterio._env:CPLE_None in PROJ: Using coordinate operation WGS 84 to EGM2008 height (1)\n",
      "DEBUG:rasterio._env:CPLE_None in PROJ: pj_open_lib(us_nga_egm08_25.tif): call fopen(/srv/conda/envs/notebook/share/proj/us_nga_egm08_25.tif) - failed\n",
      "DEBUG:rasterio._env:CPLE_None in PROJ: pj_open_lib(egm08_25.gtx): call fopen(/srv/conda/envs/notebook/share/proj/egm08_25.gtx) - failed\n",
      "DEBUG:rasterio._env:CPLE_None in PROJ: Using https://cdn.proj.org/us_nga_egm08_25.tif\n",
      "DEBUG:rasterio._env:CPLE_None in PROJ: Using coordinate operation WGS 84 to EGM2008 height (1)\n",
      "DEBUG:rasterio._env:CPLE_None in PROJ: pj_open_lib(us_nga_egm08_25.tif): call fopen(/srv/conda/envs/notebook/share/proj/us_nga_egm08_25.tif) - failed\n",
      "DEBUG:rasterio._env:CPLE_None in PROJ: pj_open_lib(egm08_25.gtx): call fopen(/srv/conda/envs/notebook/share/proj/egm08_25.gtx) - failed\n",
      "DEBUG:rasterio._env:CPLE_None in PROJ: Using https://cdn.proj.org/us_nga_egm08_25.tif\n",
      "DEBUG:rasterio._warp:Chunk and warp window: 0, 0, 3600, 3600.\n",
      "DEBUG:rasterio._env:CPLE_None in PROJ: pj_open_lib(us_nga_egm08_25.tif): call fopen(/srv/conda/envs/notebook/share/proj/us_nga_egm08_25.tif) - failed\n",
      "DEBUG:rasterio._env:CPLE_None in PROJ: pj_open_lib(egm08_25.gtx): call fopen(/srv/conda/envs/notebook/share/proj/egm08_25.gtx) - failed\n",
      "DEBUG:rasterio._env:CPLE_None in PROJ: Using https://cdn.proj.org/us_nga_egm08_25.tif\n",
      "DEBUG:rasterio._env:CPLE_None in GDAL: GDALWarpKernel()::GWKRealCase() Src=0,0,1800x1801 Dst=0,0,1800x1800\n",
      "DEBUG:rasterio._env:CPLE_None in GDAL: GDALWarpKernel()::GWKRealCase() Src=1800,0,1800x1801 Dst=1800,0,1800x1800\n",
      "DEBUG:rasterio._env:CPLE_None in GDAL: GDALWarpKernel()::GWKRealCase() Src=0,1800,1800x1800 Dst=0,1800,1800x1800\n",
      "DEBUG:rasterio._env:CPLE_None in GDAL: GDALWarpKernel()::GWKRealCase() Src=1800,1800,1800x1800 Dst=1800,1800,1800x1800\n",
      "DEBUG:rasterio._env:CPLE_None in GDAL: GDALClose(Temporary destination dataset for _reproject(), this=0x55b4a5481f60)\n",
      "DEBUG:rasterio._env:CPLE_None in GDAL: GDALClose(MEM:::DATAPOINTER=139959948320784,PIXELS=3600,LINES=3600,BANDS=1,DATATYPE=Float32, this=0x55b4a5478e70)\n"
     ]
    },
    {
     "name": "stdout",
     "output_type": "stream",
     "text": [
      "2016.963598072295\n"
     ]
    },
    {
     "name": "stderr",
     "output_type": "stream",
     "text": [
      "DEBUG:rasterio._env:CPLE_None in GDAL: GDALClose(epsg7661_rio13.tif, this=0x55b4a4ec3f10)\n",
      "DEBUG:rasterio._env:CPLE_None in GDAL: GDALClose(../Copernicus_DSM_COG_10_N39_00_W109_00_DEM.tif, this=0x55b4a4e1c300)\n",
      "DEBUG:rasterio.env:Exiting env context: <rasterio.env.Env object at 0x7f4b48192100>\n",
      "DEBUG:rasterio.env:Cleared existing <rasterio._env.GDALEnv object at 0x7f4b4b79e1f0> options\n",
      "DEBUG:rasterio._env:Stopped GDALEnv <rasterio._env.GDALEnv object at 0x7f4b4b79e1f0>.\n",
      "DEBUG:rasterio.env:Exiting outermost env\n",
      "DEBUG:rasterio.env:Exited env context: <rasterio.env.Env object at 0x7f4b48192100>\n"
     ]
    },
    {
     "name": "stdout",
     "output_type": "stream",
     "text": [
      "Array values modified!\n"
     ]
    }
   ],
   "source": [
    "import rasterio #1.3a, gdal=3.4.1, proj=8.2.1\n",
    "from rasterio.warp import calculate_default_transform, reproject, Resampling\n",
    "import numpy as np\n",
    "import logging\n",
    "import os\n",
    "\n",
    "# Necessary to expose PROJ-level logs\n",
    "os.environ[\"PROJ_DEBUG\"] = \"2\"\n",
    "\n",
    "logging.basicConfig(level=logging.DEBUG,\n",
    "                    handlers=[logging.StreamHandler(),\n",
    "                              logging.FileHandler('rasterio.log')], \n",
    "                    )\n",
    "\n",
    "\n",
    "#url = 'https://copernicus-dem-30m.s3.eu-central-1.amazonaws.com/Copernicus_DSM_COG_10_N39_00_W109_00_DEM/Copernicus_DSM_COG_10_N39_00_W109_00_DEM.tif'\n",
    "url = 'Copernicus_DSM_COG_10_N39_00_W109_00_DEM.tif'\n",
    "with rasterio.Env(GDAL_DISABLE_READDIR_ON_OPEN='EMPTY_DIR',\n",
    "                   AWS_NO_SIGN_REQUEST='YES',\n",
    "                   CPL_DEBUG=True,\n",
    "                   ):\n",
    "    \n",
    "\n",
    "    with rasterio.open(url) as src:        \n",
    "        src_data = src.read()\n",
    "        print(src_data.mean()) \n",
    "        \n",
    "        # original metadata unaware of vertical reference\n",
    "        src_crs3D = rasterio.crs.CRS.from_epsg('9518')\n",
    "        dst_crs = rasterio.crs.CRS.from_epsg('7661')    \n",
    "        transform, width, height = calculate_default_transform(src_crs3D, \n",
    "                                                               dst_crs, \n",
    "                                                               src.width, \n",
    "                                                               src.height, \n",
    "                                                               *src.bounds)\n",
    "        kwargs = src.meta.copy()\n",
    "        kwargs.update({\n",
    "            'crs': dst_crs,\n",
    "            'transform': transform,\n",
    "            'width': width,\n",
    "            'height': height\n",
    "        })\n",
    "        \n",
    "        with rasterio.open('epsg7661_rio13.tif', 'w', **kwargs) as dst:\n",
    "            dst_data = np.zeros((1,width,height))\n",
    "            reproject(source=src_data,\n",
    "                      destination=dst_data,\n",
    "                      src_transform=src.transform,\n",
    "                      src_crs=src_crs3D,\n",
    "                      dst_transform=transform,\n",
    "                      dst_crs=dst_crs,\n",
    "                      resampling=Resampling.nearest,\n",
    "                      apply_vertical_shift=True,\n",
    "                     )\n",
    "            \n",
    "            # Expect dst_data (ellipsoid) mean to be -15 meters\n",
    "            print(dst_data.mean())\n",
    "            dst.write(dst_data)\n",
    "            \n",
    "            try:\n",
    "                np.testing.assert_equal(src_data, dst_data)\n",
    "                print('Warning: array values unchanged')\n",
    "            except:\n",
    "                print('Array values modified!')"
   ]
  }
 ],
 "metadata": {
  "kernelspec": {
   "display_name": "riopip",
   "language": "python",
   "name": "riopip"
  },
  "language_info": {
   "codemirror_mode": {
    "name": "ipython",
    "version": 3
   },
   "file_extension": ".py",
   "mimetype": "text/x-python",
   "name": "python",
   "nbconvert_exporter": "python",
   "pygments_lexer": "ipython3",
   "version": "3.9.12"
  }
 },
 "nbformat": 4,
 "nbformat_minor": 5
}
